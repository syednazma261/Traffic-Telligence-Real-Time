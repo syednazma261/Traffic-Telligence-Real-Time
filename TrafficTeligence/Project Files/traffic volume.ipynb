{
 "cells": [
  {
   "cell_type": "code",
   "execution_count": 1,
   "id": "2192e850",
   "metadata": {},
   "outputs": [],
   "source": [
    "import pandas as pd\n",
    "import numpy as np\n",
    "import sklearn as sk\n",
    "import seaborn as sns\n",
    "from sklearn import linear_model\n",
    "from sklearn import tree\n",
    "from sklearn import ensemble\n",
    "from sklearn import svm\n",
    "import xgboost\n",
    "ds=pd.read_csv(\"traffic volume.csv\")"
   ]
  },
  {
   "cell_type": "code",
   "execution_count": 2,
   "id": "f640be20",
   "metadata": {},
   "outputs": [
    {
     "name": "stdout",
     "output_type": "stream",
     "text": [
      "               temp          rain          snow  traffic_volume\n",
      "count  48151.000000  48202.000000  48192.000000    48204.000000\n",
      "mean     281.205351      0.334278      0.000222     3259.818355\n",
      "std       13.343675     44.790062      0.008169     1986.860670\n",
      "min        0.000000      0.000000      0.000000        0.000000\n",
      "25%      272.160000      0.000000      0.000000     1193.000000\n",
      "50%      282.460000      0.000000      0.000000     3380.000000\n",
      "75%      291.810000      0.000000      0.000000     4933.000000\n",
      "max      310.070000   9831.300000      0.510000     7280.000000\n"
     ]
    }
   ],
   "source": [
    "print(ds.describe())"
   ]
  },
  {
   "cell_type": "code",
   "execution_count": 3,
   "id": "5ce20228",
   "metadata": {},
   "outputs": [
    {
     "name": "stdout",
     "output_type": "stream",
     "text": [
      "      holiday    temp  rain  snow       weather        date      Time  \\\n",
      "0        None  288.28   0.0   0.0        Clouds  02-10-2012  09:00:00   \n",
      "1        None  289.36   0.0   0.0        Clouds  02-10-2012  10:00:00   \n",
      "2        None  289.58   0.0   0.0        Clouds  02-10-2012  11:00:00   \n",
      "3        None  290.13   0.0   0.0        Clouds  02-10-2012  12:00:00   \n",
      "4        None  291.14   0.0   0.0        Clouds  02-10-2012  13:00:00   \n",
      "...       ...     ...   ...   ...           ...         ...       ...   \n",
      "48199    None  283.45   0.0   0.0        Clouds  30-09-2018  19:00:00   \n",
      "48200    None  282.76   0.0   0.0        Clouds  30-09-2018  20:00:00   \n",
      "48201    None  282.73   0.0   0.0  Thunderstorm  30-09-2018  21:00:00   \n",
      "48202    None  282.09   0.0   0.0        Clouds  30-09-2018  22:00:00   \n",
      "48203    None  282.12   0.0   0.0        Clouds  30-09-2018  23:00:00   \n",
      "\n",
      "       traffic_volume  \n",
      "0                5545  \n",
      "1                4516  \n",
      "2                4767  \n",
      "3                5026  \n",
      "4                4918  \n",
      "...               ...  \n",
      "48199            3543  \n",
      "48200            2781  \n",
      "48201            2159  \n",
      "48202            1450  \n",
      "48203             954  \n",
      "\n",
      "[48204 rows x 8 columns]\n"
     ]
    }
   ],
   "source": [
    "print(ds)"
   ]
  },
  {
   "cell_type": "code",
   "execution_count": 4,
   "id": "0a855b9f",
   "metadata": {},
   "outputs": [
    {
     "name": "stdout",
     "output_type": "stream",
     "text": [
      "<class 'pandas.core.frame.DataFrame'>\n",
      "RangeIndex: 48204 entries, 0 to 48203\n",
      "Data columns (total 8 columns):\n",
      " #   Column          Non-Null Count  Dtype  \n",
      "---  ------          --------------  -----  \n",
      " 0   holiday         48204 non-null  object \n",
      " 1   temp            48151 non-null  float64\n",
      " 2   rain            48202 non-null  float64\n",
      " 3   snow            48192 non-null  float64\n",
      " 4   weather         48155 non-null  object \n",
      " 5   date            48204 non-null  object \n",
      " 6   Time            48204 non-null  object \n",
      " 7   traffic_volume  48204 non-null  int64  \n",
      "dtypes: float64(3), int64(1), object(4)\n",
      "memory usage: 2.9+ MB\n",
      "None\n"
     ]
    }
   ],
   "source": [
    "print(ds.info())"
   ]
  },
  {
   "cell_type": "code",
   "execution_count": 5,
   "id": "2c940254",
   "metadata": {},
   "outputs": [],
   "source": [
    "ds['temp'].fillna(ds['temp'].mean(),inplace=True)\n",
    "ds['rain'].fillna(ds['rain'].mean(),inplace=True)\n",
    "ds['snow'].fillna(ds['snow'].mean(),inplace=True)\n"
   ]
  },
  {
   "cell_type": "code",
   "execution_count": 6,
   "id": "1a8a72e6",
   "metadata": {},
   "outputs": [
    {
     "name": "stdout",
     "output_type": "stream",
     "text": [
      "      holiday    temp  rain  snow       weather        date      Time  \\\n",
      "0        None  288.28   0.0   0.0        Clouds  02-10-2012  09:00:00   \n",
      "1        None  289.36   0.0   0.0        Clouds  02-10-2012  10:00:00   \n",
      "2        None  289.58   0.0   0.0        Clouds  02-10-2012  11:00:00   \n",
      "3        None  290.13   0.0   0.0        Clouds  02-10-2012  12:00:00   \n",
      "4        None  291.14   0.0   0.0        Clouds  02-10-2012  13:00:00   \n",
      "...       ...     ...   ...   ...           ...         ...       ...   \n",
      "48199    None  283.45   0.0   0.0        Clouds  30-09-2018  19:00:00   \n",
      "48200    None  282.76   0.0   0.0        Clouds  30-09-2018  20:00:00   \n",
      "48201    None  282.73   0.0   0.0  Thunderstorm  30-09-2018  21:00:00   \n",
      "48202    None  282.09   0.0   0.0        Clouds  30-09-2018  22:00:00   \n",
      "48203    None  282.12   0.0   0.0        Clouds  30-09-2018  23:00:00   \n",
      "\n",
      "       traffic_volume  \n",
      "0                5545  \n",
      "1                4516  \n",
      "2                4767  \n",
      "3                5026  \n",
      "4                4918  \n",
      "...               ...  \n",
      "48199            3543  \n",
      "48200            2781  \n",
      "48201            2159  \n",
      "48202            1450  \n",
      "48203             954  \n",
      "\n",
      "[48204 rows x 8 columns]\n"
     ]
    }
   ],
   "source": [
    "print(ds)\n"
   ]
  },
  {
   "cell_type": "code",
   "execution_count": 7,
   "id": "1b079bd5",
   "metadata": {},
   "outputs": [
    {
     "name": "stdout",
     "output_type": "stream",
     "text": [
      "Counter({'Clouds': 15144, 'Clear': 13383, 'Mist': 5942, 'Rain': 5665, 'Snow': 2875, 'Drizzle': 1818, 'Haze': 1359, 'Thunderstorm': 1033, 'Fog': 912, nan: 49, 'Smoke': 20, 'Squall': 4})\n"
     ]
    }
   ],
   "source": [
    "from collections import Counter\n",
    "print(Counter(ds['weather']))"
   ]
  },
  {
   "cell_type": "code",
   "execution_count": 8,
   "id": "3459a7c8",
   "metadata": {},
   "outputs": [],
   "source": [
    "ds['weather'].fillna('Clouds',inplace=True)"
   ]
  },
  {
   "cell_type": "code",
   "execution_count": 9,
   "id": "5cf181d4",
   "metadata": {},
   "outputs": [],
   "source": [
    "cor=ds.corr()"
   ]
  },
  {
   "cell_type": "code",
   "execution_count": 10,
   "id": "a2c96d75",
   "metadata": {},
   "outputs": [
    {
     "name": "stdout",
     "output_type": "stream",
     "text": [
      "                    temp      rain      snow  traffic_volume\n",
      "temp            1.000000  0.009070 -0.019758        0.130034\n",
      "rain            0.009070  1.000000 -0.000090        0.004714\n",
      "snow           -0.019758 -0.000090  1.000000        0.000735\n",
      "traffic_volume  0.130034  0.004714  0.000735        1.000000\n"
     ]
    }
   ],
   "source": [
    "print(cor)"
   ]
  },
  {
   "cell_type": "code",
   "execution_count": 11,
   "id": "2f0d81c1",
   "metadata": {},
   "outputs": [
    {
     "data": {
      "text/plain": [
       "<AxesSubplot:>"
      ]
     },
     "execution_count": 11,
     "metadata": {},
     "output_type": "execute_result"
    },
    {
     "data": {
      "image/png": "[encoded data removed]",
      "text/plain": [
       "<Figure size 640x480 with 2 Axes>"
      ]
     },
     "metadata": {},
     "output_type": "display_data"
    }
   ],
   "source": [
    "sns.heatmap(cor)"
   ]
  },
  {
   "cell_type": "code",
   "execution_count": 12,
   "id": "388f35cf",
   "metadata": {},
   "outputs": [
    {
     "data": {
      "text/plain": [
       "<seaborn.axisgrid.PairGrid at 0x1767aa04d60>"
      ]
     },
     "execution_count": 12,
     "metadata": {},
     "output_type": "execute_result"
    },
    {
     "data": {
      "image/png": "[encoded data removed]",
      "text/plain": [
       "<Figure size 1000x1000 with 20 Axes>"
      ]
     },
     "metadata": {},
     "output_type": "display_data"
    }
   ],
   "source": [
    "sns.pairplot(ds)"
   ]
  },
  {
   "cell_type": "code",
   "execution_count": 13,
   "id": "9328a7e0",
   "metadata": {},
   "outputs": [
    {
     "data": {
      "text/plain": [
       "<AxesSubplot:>"
      ]
     },
     "execution_count": 13,
     "metadata": {},
     "output_type": "execute_result"
    },
    {
     "data": {
      "image/png": "[encoded data removed]",
      "text/plain": [
       "<Figure size 640x480 with 1 Axes>"
      ]
     },
     "metadata": {},
     "output_type": "display_data"
    }
   ],
   "source": [
    "ds.boxplot()"
   ]
  },
  {
   "cell_type": "code",
   "execution_count": 14,
   "id": "a22d3798",
   "metadata": {},
   "outputs": [],
   "source": [
    "ds[['day','month','year']]=ds['date'].str.split('-',expand=True)\n",
    "ds[['hours','minutes','seconds']]=ds['Time'].str.split(':',expand=True)"
   ]
  },
  {
   "cell_type": "code",
   "execution_count": 15,
   "id": "d86daccc",
   "metadata": {},
   "outputs": [
    {
     "data": {
      "text/html": [
       "<div>\n",
       "<style scoped>\n",
       "    .dataframe tbody tr th:only-of-type {\n",
       "        vertical-align: middle;\n",
       "    }\n",
       "\n",
       "    .dataframe tbody tr th {\n",
       "        vertical-align: top;\n",
       "    }\n",
       "\n",
       "    .dataframe thead th {\n",
       "        text-align: right;\n",
       "    }\n",
       "</style>\n",
       "<table border=\"1\" class=\"dataframe\">\n",
       "  <thead>\n",
       "    <tr style=\"text-align: right;\">\n",
       "      <th></th>\n",
       "      <th>holiday</th>\n",
       "      <th>temp</th>\n",
       "      <th>rain</th>\n",
       "      <th>snow</th>\n",
       "      <th>weather</th>\n",
       "      <th>date</th>\n",
       "      <th>Time</th>\n",
       "      <th>traffic_volume</th>\n",
       "      <th>day</th>\n",
       "      <th>month</th>\n",
       "      <th>year</th>\n",
       "      <th>hours</th>\n",
       "      <th>minutes</th>\n",
       "      <th>seconds</th>\n",
       "    </tr>\n",
       "  </thead>\n",
       "  <tbody>\n",
       "    <tr>\n",
       "      <th>0</th>\n",
       "      <td>None</td>\n",
       "      <td>288.28</td>\n",
       "      <td>0.0</td>\n",
       "      <td>0.0</td>\n",
       "      <td>Clouds</td>\n",
       "      <td>02-10-2012</td>\n",
       "      <td>09:00:00</td>\n",
       "      <td>5545</td>\n",
       "      <td>02</td>\n",
       "      <td>10</td>\n",
       "      <td>2012</td>\n",
       "      <td>09</td>\n",
       "      <td>00</td>\n",
       "      <td>00</td>\n",
       "    </tr>\n",
       "    <tr>\n",
       "      <th>1</th>\n",
       "      <td>None</td>\n",
       "      <td>289.36</td>\n",
       "      <td>0.0</td>\n",
       "      <td>0.0</td>\n",
       "      <td>Clouds</td>\n",
       "      <td>02-10-2012</td>\n",
       "      <td>10:00:00</td>\n",
       "      <td>4516</td>\n",
       "      <td>02</td>\n",
       "      <td>10</td>\n",
       "      <td>2012</td>\n",
       "      <td>10</td>\n",
       "      <td>00</td>\n",
       "      <td>00</td>\n",
       "    </tr>\n",
       "    <tr>\n",
       "      <th>2</th>\n",
       "      <td>None</td>\n",
       "      <td>289.58</td>\n",
       "      <td>0.0</td>\n",
       "      <td>0.0</td>\n",
       "      <td>Clouds</td>\n",
       "      <td>02-10-2012</td>\n",
       "      <td>11:00:00</td>\n",
       "      <td>4767</td>\n",
       "      <td>02</td>\n",
       "      <td>10</td>\n",
       "      <td>2012</td>\n",
       "      <td>11</td>\n",
       "      <td>00</td>\n",
       "      <td>00</td>\n",
       "    </tr>\n",
       "    <tr>\n",
       "      <th>3</th>\n",
       "      <td>None</td>\n",
       "      <td>290.13</td>\n",
       "      <td>0.0</td>\n",
       "      <td>0.0</td>\n",
       "      <td>Clouds</td>\n",
       "      <td>02-10-2012</td>\n",
       "      <td>12:00:00</td>\n",
       "      <td>5026</td>\n",
       "      <td>02</td>\n",
       "      <td>10</td>\n",
       "      <td>2012</td>\n",
       "      <td>12</td>\n",
       "      <td>00</td>\n",
       "      <td>00</td>\n",
       "    </tr>\n",
       "    <tr>\n",
       "      <th>4</th>\n",
       "      <td>None</td>\n",
       "      <td>291.14</td>\n",
       "      <td>0.0</td>\n",
       "      <td>0.0</td>\n",
       "      <td>Clouds</td>\n",
       "      <td>02-10-2012</td>\n",
       "      <td>13:00:00</td>\n",
       "      <td>4918</td>\n",
       "      <td>02</td>\n",
       "      <td>10</td>\n",
       "      <td>2012</td>\n",
       "      <td>13</td>\n",
       "      <td>00</td>\n",
       "      <td>00</td>\n",
       "    </tr>\n",
       "  </tbody>\n",
       "</table>\n",
       "</div>"
      ],
      "text/plain": [
       "  holiday    temp  rain  snow weather        date      Time  traffic_volume  \\\n",
       "0    None  288.28   0.0   0.0  Clouds  02-10-2012  09:00:00            5545   \n",
       "1    None  289.36   0.0   0.0  Clouds  02-10-2012  10:00:00            4516   \n",
       "2    None  289.58   0.0   0.0  Clouds  02-10-2012  11:00:00            4767   \n",
       "3    None  290.13   0.0   0.0  Clouds  02-10-2012  12:00:00            5026   \n",
       "4    None  291.14   0.0   0.0  Clouds  02-10-2012  13:00:00            4918   \n",
       "\n",
       "  day month  year hours minutes seconds  \n",
       "0  02    10  2012    09      00      00  \n",
       "1  02    10  2012    10      00      00  \n",
       "2  02    10  2012    11      00      00  \n",
       "3  02    10  2012    12      00      00  \n",
       "4  02    10  2012    13      00      00  "
      ]
     },
     "execution_count": 15,
     "metadata": {},
     "output_type": "execute_result"
    }
   ],
   "source": [
    "ds.head()"
   ]
  },
  {
   "cell_type": "code",
   "execution_count": 16,
   "id": "8a2c867b",
   "metadata": {},
   "outputs": [],
   "source": [
    "ds.drop(columns=['date','Time'],axis=1,inplace=True)"
   ]
  },
  {
   "cell_type": "code",
   "execution_count": 17,
   "id": "4a9884e5",
   "metadata": {},
   "outputs": [
    {
     "data": {
      "text/html": [
       "<div>\n",
       "<style scoped>\n",
       "    .dataframe tbody tr th:only-of-type {\n",
       "        vertical-align: middle;\n",
       "    }\n",
       "\n",
       "    .dataframe tbody tr th {\n",
       "        vertical-align: top;\n",
       "    }\n",
       "\n",
       "    .dataframe thead th {\n",
       "        text-align: right;\n",
       "    }\n",
       "</style>\n",
       "<table border=\"1\" class=\"dataframe\">\n",
       "  <thead>\n",
       "    <tr style=\"text-align: right;\">\n",
       "      <th></th>\n",
       "      <th>holiday</th>\n",
       "      <th>temp</th>\n",
       "      <th>rain</th>\n",
       "      <th>snow</th>\n",
       "      <th>weather</th>\n",
       "      <th>traffic_volume</th>\n",
       "      <th>day</th>\n",
       "      <th>month</th>\n",
       "      <th>year</th>\n",
       "      <th>hours</th>\n",
       "      <th>minutes</th>\n",
       "      <th>seconds</th>\n",
       "    </tr>\n",
       "  </thead>\n",
       "  <tbody>\n",
       "    <tr>\n",
       "      <th>0</th>\n",
       "      <td>None</td>\n",
       "      <td>288.28</td>\n",
       "      <td>0.0</td>\n",
       "      <td>0.0</td>\n",
       "      <td>Clouds</td>\n",
       "      <td>5545</td>\n",
       "      <td>02</td>\n",
       "      <td>10</td>\n",
       "      <td>2012</td>\n",
       "      <td>09</td>\n",
       "      <td>00</td>\n",
       "      <td>00</td>\n",
       "    </tr>\n",
       "    <tr>\n",
       "      <th>1</th>\n",
       "      <td>None</td>\n",
       "      <td>289.36</td>\n",
       "      <td>0.0</td>\n",
       "      <td>0.0</td>\n",
       "      <td>Clouds</td>\n",
       "      <td>4516</td>\n",
       "      <td>02</td>\n",
       "      <td>10</td>\n",
       "      <td>2012</td>\n",
       "      <td>10</td>\n",
       "      <td>00</td>\n",
       "      <td>00</td>\n",
       "    </tr>\n",
       "    <tr>\n",
       "      <th>2</th>\n",
       "      <td>None</td>\n",
       "      <td>289.58</td>\n",
       "      <td>0.0</td>\n",
       "      <td>0.0</td>\n",
       "      <td>Clouds</td>\n",
       "      <td>4767</td>\n",
       "      <td>02</td>\n",
       "      <td>10</td>\n",
       "      <td>2012</td>\n",
       "      <td>11</td>\n",
       "      <td>00</td>\n",
       "      <td>00</td>\n",
       "    </tr>\n",
       "    <tr>\n",
       "      <th>3</th>\n",
       "      <td>None</td>\n",
       "      <td>290.13</td>\n",
       "      <td>0.0</td>\n",
       "      <td>0.0</td>\n",
       "      <td>Clouds</td>\n",
       "      <td>5026</td>\n",
       "      <td>02</td>\n",
       "      <td>10</td>\n",
       "      <td>2012</td>\n",
       "      <td>12</td>\n",
       "      <td>00</td>\n",
       "      <td>00</td>\n",
       "    </tr>\n",
       "    <tr>\n",
       "      <th>4</th>\n",
       "      <td>None</td>\n",
       "      <td>291.14</td>\n",
       "      <td>0.0</td>\n",
       "      <td>0.0</td>\n",
       "      <td>Clouds</td>\n",
       "      <td>4918</td>\n",
       "      <td>02</td>\n",
       "      <td>10</td>\n",
       "      <td>2012</td>\n",
       "      <td>13</td>\n",
       "      <td>00</td>\n",
       "      <td>00</td>\n",
       "    </tr>\n",
       "  </tbody>\n",
       "</table>\n",
       "</div>"
      ],
      "text/plain": [
       "  holiday    temp  rain  snow weather  traffic_volume day month  year hours  \\\n",
       "0    None  288.28   0.0   0.0  Clouds            5545  02    10  2012    09   \n",
       "1    None  289.36   0.0   0.0  Clouds            4516  02    10  2012    10   \n",
       "2    None  289.58   0.0   0.0  Clouds            4767  02    10  2012    11   \n",
       "3    None  290.13   0.0   0.0  Clouds            5026  02    10  2012    12   \n",
       "4    None  291.14   0.0   0.0  Clouds            4918  02    10  2012    13   \n",
       "\n",
       "  minutes seconds  \n",
       "0      00      00  \n",
       "1      00      00  \n",
       "2      00      00  \n",
       "3      00      00  \n",
       "4      00      00  "
      ]
     },
     "execution_count": 17,
     "metadata": {},
     "output_type": "execute_result"
    }
   ],
   "source": [
    "ds.head()"
   ]
  },
  {
   "cell_type": "code",
   "execution_count": 18,
   "id": "74a798e4",
   "metadata": {},
   "outputs": [],
   "source": [
    "y=ds['traffic_volume']\n",
    "x=ds.drop(columns=['traffic_volume'],axis=1)"
   ]
  },
  {
   "cell_type": "code",
   "execution_count": 19,
   "id": "d7c408d7",
   "metadata": {},
   "outputs": [
    {
     "name": "stdout",
     "output_type": "stream",
     "text": [
      "0        5545\n",
      "1        4516\n",
      "2        4767\n",
      "3        5026\n",
      "4        4918\n",
      "         ... \n",
      "48199    3543\n",
      "48200    2781\n",
      "48201    2159\n",
      "48202    1450\n",
      "48203     954\n",
      "Name: traffic_volume, Length: 48204, dtype: int64\n",
      "      holiday    temp  rain  snow       weather day month  year hours minutes  \\\n",
      "0        None  288.28   0.0   0.0        Clouds  02    10  2012    09      00   \n",
      "1        None  289.36   0.0   0.0        Clouds  02    10  2012    10      00   \n",
      "2        None  289.58   0.0   0.0        Clouds  02    10  2012    11      00   \n",
      "3        None  290.13   0.0   0.0        Clouds  02    10  2012    12      00   \n",
      "4        None  291.14   0.0   0.0        Clouds  02    10  2012    13      00   \n",
      "...       ...     ...   ...   ...           ...  ..   ...   ...   ...     ...   \n",
      "48199    None  283.45   0.0   0.0        Clouds  30    09  2018    19      00   \n",
      "48200    None  282.76   0.0   0.0        Clouds  30    09  2018    20      00   \n",
      "48201    None  282.73   0.0   0.0  Thunderstorm  30    09  2018    21      00   \n",
      "48202    None  282.09   0.0   0.0        Clouds  30    09  2018    22      00   \n",
      "48203    None  282.12   0.0   0.0        Clouds  30    09  2018    23      00   \n",
      "\n",
      "      seconds  \n",
      "0          00  \n",
      "1          00  \n",
      "2          00  \n",
      "3          00  \n",
      "4          00  \n",
      "...       ...  \n",
      "48199      00  \n",
      "48200      00  \n",
      "48201      00  \n",
      "48202      00  \n",
      "48203      00  \n",
      "\n",
      "[48204 rows x 11 columns]\n"
     ]
    }
   ],
   "source": [
    "print(y)\n",
    "print(x)"
   ]
  },
  {
   "cell_type": "code",
   "execution_count": 20,
   "id": "6a0fb225",
   "metadata": {},
   "outputs": [
    {
     "name": "stdout",
     "output_type": "stream",
     "text": [
      "  holiday    temp  rain  snow weather day month  year hours minutes seconds\n",
      "0    None  288.28   0.0   0.0  Clouds  02    10  2012    09      00      00\n",
      "1    None  289.36   0.0   0.0  Clouds  02    10  2012    10      00      00\n",
      "2    None  289.58   0.0   0.0  Clouds  02    10  2012    11      00      00\n",
      "3    None  290.13   0.0   0.0  Clouds  02    10  2012    12      00      00\n",
      "4    None  291.14   0.0   0.0  Clouds  02    10  2012    13      00      00\n"
     ]
    }
   ],
   "source": [
    "print(x.head())"
   ]
  },
  {
   "cell_type": "code",
   "execution_count": 21,
   "id": "bce5e21c",
   "metadata": {},
   "outputs": [
    {
     "name": "stdout",
     "output_type": "stream",
     "text": [
      "0    5545\n",
      "1    4516\n",
      "2    4767\n",
      "3    5026\n",
      "4    4918\n",
      "Name: traffic_volume, dtype: int64\n"
     ]
    }
   ],
   "source": [
    "print(y.head())"
   ]
  },
  {
   "cell_type": "code",
   "execution_count": 22,
   "id": "524ddae7",
   "metadata": {},
   "outputs": [],
   "source": [
    "names=x.columns"
   ]
  },
  {
   "cell_type": "code",
   "execution_count": 23,
   "id": "2b26e666",
   "metadata": {},
   "outputs": [],
   "source": [
    "x['holiday'] = x['holiday'].replace('None', np.nan)"
   ]
  },
  {
   "cell_type": "code",
   "execution_count": 24,
   "id": "bb81d8a6",
   "metadata": {},
   "outputs": [],
   "source": [
    "import pandas as pd\n",
    "import numpy as np\n",
    "from sklearn.preprocessing import scale\n",
    "\n",
    "# Replace 'None' strings with NaN\n",
    "x = x.replace('None', np.nan)\n",
    "\n",
    "# Convert categorical columns into dummy/one-hot encoded columns\n",
    "x = pd.get_dummies(x, columns=['holiday', 'weather'], dummy_na=True)\n",
    "\n",
    "# Ensure all remaining columns are numeric\n",
    "x = x.apply(pd.to_numeric)\n",
    "\n",
    "# Save column names\n",
    "names = x.columns\n",
    "\n",
    "# Apply scaling\n",
    "x_scaled = scale(x)\n",
    "x = pd.DataFrame(x_scaled, columns=names)\n"
   ]
  },
  {
   "cell_type": "code",
   "execution_count": 25,
   "id": "4211b4b3",
   "metadata": {},
   "outputs": [
    {
     "name": "stdout",
     "output_type": "stream",
     "text": [
      "       temp      rain      snow       day    month      year     hours  \\\n",
      "0  0.530485 -0.007463 -0.027235 -1.574903  1.02758 -1.855294 -0.345548   \n",
      "1  0.611467 -0.007463 -0.027235 -1.574903  1.02758 -1.855294 -0.201459   \n",
      "2  0.627964 -0.007463 -0.027235 -1.574903  1.02758 -1.855294 -0.057371   \n",
      "3  0.669205 -0.007463 -0.027235 -1.574903  1.02758 -1.855294  0.086718   \n",
      "4  0.744939 -0.007463 -0.027235 -1.574903  1.02758 -1.855294  0.230807   \n",
      "\n",
      "   minutes  seconds  holiday_Christmas Day  ...  weather_Drizzle  weather_Fog  \\\n",
      "0      0.0      0.0              -0.011157  ...        -0.197972    -0.138868   \n",
      "1      0.0      0.0              -0.011157  ...        -0.197972    -0.138868   \n",
      "2      0.0      0.0              -0.011157  ...        -0.197972    -0.138868   \n",
      "3      0.0      0.0              -0.011157  ...        -0.197972    -0.138868   \n",
      "4      0.0      0.0              -0.011157  ...        -0.197972    -0.138868   \n",
      "\n",
      "   weather_Haze  weather_Mist  weather_Rain  weather_Smoke  weather_Snow  \\\n",
      "0     -0.170325     -0.374965     -0.364927      -0.020373     -0.251844   \n",
      "1     -0.170325     -0.374965     -0.364927      -0.020373     -0.251844   \n",
      "2     -0.170325     -0.374965     -0.364927      -0.020373     -0.251844   \n",
      "3     -0.170325     -0.374965     -0.364927      -0.020373     -0.251844   \n",
      "4     -0.170325     -0.374965     -0.364927      -0.020373     -0.251844   \n",
      "\n",
      "   weather_Squall  weather_Thunderstorm  weather_nan  \n",
      "0        -0.00911             -0.147983          0.0  \n",
      "1        -0.00911             -0.147983          0.0  \n",
      "2        -0.00911             -0.147983          0.0  \n",
      "3        -0.00911             -0.147983          0.0  \n",
      "4        -0.00911             -0.147983          0.0  \n",
      "\n",
      "[5 rows x 33 columns]\n"
     ]
    }
   ],
   "source": [
    "print(x.head())"
   ]
  },
  {
   "cell_type": "code",
   "execution_count": 26,
   "id": "837ae778",
   "metadata": {},
   "outputs": [],
   "source": [
    "from sklearn.model_selection import train_test_split\n",
    "x_train,x_test,y_train,y_test=train_test_split(x,y,test_size=0.2,random_state=0)"
   ]
  },
  {
   "cell_type": "code",
   "execution_count": 27,
   "id": "d6facf77",
   "metadata": {},
   "outputs": [],
   "source": [
    "lin_reg=linear_model.LinearRegression()\n",
    "Dtree=tree.DecisionTreeRegressor()\n",
    "Rand=ensemble.RandomForestRegressor()\n",
    "Svr=svm.SVR()\n",
    "XGB=xgboost.XGBRegressor()"
   ]
  },
  {
   "cell_type": "code",
   "execution_count": 28,
   "id": "d8d70678",
   "metadata": {},
   "outputs": [
    {
     "data": {
      "text/plain": [
       "LinearRegression()"
      ]
     },
     "execution_count": 28,
     "metadata": {},
     "output_type": "execute_result"
    }
   ],
   "source": [
    "lin_reg.fit(x_train,y_train)"
   ]
  },
  {
   "cell_type": "code",
   "execution_count": 29,
   "id": "8d49e59b",
   "metadata": {},
   "outputs": [
    {
     "data": {
      "text/plain": [
       "DecisionTreeRegressor()"
      ]
     },
     "execution_count": 29,
     "metadata": {},
     "output_type": "execute_result"
    }
   ],
   "source": [
    "Dtree.fit(x_train,y_train)"
   ]
  },
  {
   "cell_type": "code",
   "execution_count": 30,
   "id": "6030cb55",
   "metadata": {},
   "outputs": [
    {
     "data": {
      "text/plain": [
       "RandomForestRegressor()"
      ]
     },
     "execution_count": 30,
     "metadata": {},
     "output_type": "execute_result"
    }
   ],
   "source": [
    "Rand.fit(x_train,y_train)"
   ]
  },
  {
   "cell_type": "code",
   "execution_count": 31,
   "id": "d287f62c",
   "metadata": {},
   "outputs": [
    {
     "data": {
      "text/plain": [
       "SVR()"
      ]
     },
     "execution_count": 31,
     "metadata": {},
     "output_type": "execute_result"
    }
   ],
   "source": [
    "Svr.fit(x_train,y_train)"
   ]
  },
  {
   "cell_type": "code",
   "execution_count": 32,
   "id": "32c94e92",
   "metadata": {},
   "outputs": [
    {
     "data": {
      "text/plain": [
       "XGBRegressor(base_score=None, booster=None, callbacks=None,\n",
       "             colsample_bylevel=None, colsample_bynode=None,\n",
       "             colsample_bytree=None, device=None, early_stopping_rounds=None,\n",
       "             enable_categorical=False, eval_metric=None, feature_types=None,\n",
       "             gamma=None, grow_policy=None, importance_type=None,\n",
       "             interaction_constraints=None, learning_rate=None, max_bin=None,\n",
       "             max_cat_threshold=None, max_cat_to_onehot=None,\n",
       "             max_delta_step=None, max_depth=None, max_leaves=None,\n",
       "             min_child_weight=None, missing=nan, monotone_constraints=None,\n",
       "             multi_strategy=None, n_estimators=None, n_jobs=None,\n",
       "             num_parallel_tree=None, random_state=None, ...)"
      ]
     },
     "execution_count": 32,
     "metadata": {},
     "output_type": "execute_result"
    }
   ],
   "source": [
    "XGB.fit(x_train,y_train)"
   ]
  },
  {
   "cell_type": "code",
   "execution_count": 33,
   "id": "cd3fc5f8",
   "metadata": {},
   "outputs": [],
   "source": [
    "p1=lin_reg.predict(x_train)\n",
    "p2=Dtree.predict(x_train)\n",
    "p3=Rand.predict(x_train)\n",
    "p4=Svr.predict(x_train)\n",
    "p5=XGB.predict(x_train)"
   ]
  },
  {
   "cell_type": "code",
   "execution_count": 34,
   "id": "f1f852ab",
   "metadata": {},
   "outputs": [],
   "source": [
    "from sklearn import metrics"
   ]
  },
  {
   "cell_type": "code",
   "execution_count": 35,
   "id": "2bb9a45a",
   "metadata": {},
   "outputs": [
    {
     "name": "stdout",
     "output_type": "stream",
     "text": [
      "-5.013649971849924\n",
      "1.0\n",
      "0.9742782841242621\n",
      "-34.82573655799368\n",
      "0.8464591241878575\n"
     ]
    }
   ],
   "source": [
    "print(metrics.r2_score(p1,y_train))\n",
    "print(metrics.r2_score(p2,y_train))\n",
    "print(metrics.r2_score(p3,y_train))\n",
    "print(metrics.r2_score(p4,y_train))\n",
    "print(metrics.r2_score(p5,y_train))"
   ]
  },
  {
   "cell_type": "code",
   "execution_count": 36,
   "id": "7d61f998",
   "metadata": {},
   "outputs": [],
   "source": [
    "p1=lin_reg.predict(x_test)\n",
    "p2=Dtree.predict(x_test)\n",
    "p3=Rand.predict(x_test)\n",
    "p4=Svr.predict(x_test)\n",
    "p5=XGB.predict(x_test)"
   ]
  },
  {
   "cell_type": "code",
   "execution_count": 37,
   "id": "0cdb5c44",
   "metadata": {},
   "outputs": [
    {
     "name": "stdout",
     "output_type": "stream",
     "text": [
      "-4.877567768398626\n",
      "0.6887594368054888\n",
      "0.7980168302616875\n",
      "-34.07035127371447\n",
      "0.8069470771532439\n"
     ]
    }
   ],
   "source": [
    "print(metrics.r2_score(p1,y_test))\n",
    "print(metrics.r2_score(p2,y_test))\n",
    "print(metrics.r2_score(p3,y_test))\n",
    "print(metrics.r2_score(p4,y_test))\n",
    "print(metrics.r2_score(p5,y_test))"
   ]
  },
  {
   "cell_type": "code",
   "execution_count": 38,
   "id": "6cec100f",
   "metadata": {},
   "outputs": [],
   "source": [
    "MSE=metrics.mean_squared_error(p3,y_test)"
   ]
  },
  {
   "cell_type": "code",
   "execution_count": 39,
   "id": "216c3736",
   "metadata": {},
   "outputs": [
    {
     "data": {
      "text/plain": [
       "807.7073905243628"
      ]
     },
     "execution_count": 39,
     "metadata": {},
     "output_type": "execute_result"
    }
   ],
   "source": [
    "np.sqrt(MSE)"
   ]
  },
  {
   "cell_type": "code",
   "execution_count": 40,
   "id": "5520f414",
   "metadata": {},
   "outputs": [],
   "source": [
    "import pickle"
   ]
  },
  {
   "cell_type": "code",
   "execution_count": 41,
   "id": "0871509f",
   "metadata": {},
   "outputs": [],
   "source": []
  },
  {
   "cell_type": "code",
   "execution_count": 44,
   "id": "55702de5",
   "metadata": {},
   "outputs": [],
   "source": [
    "# Inside your notebook or training script\n",
    "import pickle\n",
    "from sklearn.tree import DecisionTreeRegressor\n",
    "\n",
    "model = DecisionTreeRegressor()\n",
    "model.fit(x_train, y_train)\n",
    "\n",
    "# Save with current sklearn version\n",
    "with open('model.pkl', 'wb') as f:\n",
    "    pickle.dump(model, f)\n"
   ]
  },
  {
   "cell_type": "code",
   "execution_count": null,
   "id": "1cabcdbe",
   "metadata": {},
   "outputs": [],
   "source": []
  }
 ],
 "metadata": {
  "kernelspec": {
   "display_name": "Python 3 (ipykernel)",
   "language": "python",
   "name": "python3"
  },
  "language_info": {
   "codemirror_mode": {
    "name": "ipython",
    "version": 3
   },
   "file_extension": ".py",
   "mimetype": "text/x-python",
   "name": "python",
   "nbconvert_exporter": "python",
   "pygments_lexer": "ipython3",
   "version": "3.9.13"
  }
 },
 "nbformat": 4,
 "nbformat_minor": 5
}
